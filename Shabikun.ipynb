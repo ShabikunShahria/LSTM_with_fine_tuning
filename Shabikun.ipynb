{
  "nbformat": 4,
  "nbformat_minor": 0,
  "metadata": {
    "colab": {
      "provenance": []
    },
    "kernelspec": {
      "name": "python3",
      "display_name": "Python 3"
    },
    "language_info": {
      "name": "python"
    }
  },
  "cells": [
    {
      "cell_type": "code",
      "execution_count": 1,
      "metadata": {
        "colab": {
          "base_uri": "https://localhost:8080/"
        },
        "id": "_RSHoyGJIeBq",
        "outputId": "79a433e2-6a36-4aaa-9837-2cbe2fd32e82"
      },
      "outputs": [
        {
          "output_type": "stream",
          "name": "stdout",
          "text": [
            "Name: Shabikun\n",
            "ID: B190305013\n"
          ]
        }
      ],
      "source": [
        "def display_info():\n",
        "    name = \"Shabikun\"\n",
        "    student_id = \"B190305013\"\n",
        "\n",
        "    print(\"Name:\", name)\n",
        "    print(\"ID:\", student_id)\n",
        "\n",
        "if __name__ == \"__main__\":\n",
        "    display_info()"
      ]
    }
  ]
}